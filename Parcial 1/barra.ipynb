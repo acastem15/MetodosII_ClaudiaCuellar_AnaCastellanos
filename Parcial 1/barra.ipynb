{
 "cells": [
  {
   "cell_type": "code",
   "execution_count": 106,
   "id": "307e73d3",
   "metadata": {},
   "outputs": [],
   "source": [
    "import numpy as np\n",
    "import matplotlib.pyplot as plt\n",
    "from scipy import integrate"
   ]
  },
  {
   "cell_type": "code",
   "execution_count": 107,
   "id": "4d918389",
   "metadata": {},
   "outputs": [],
   "source": [
    "#Physics parameters\n",
    "g = 9.81\n",
    "L = 1.  # Gamma/m  Gamma is the viscosity and m the mass "
   ]
  },
  {
   "cell_type": "code",
   "execution_count": 108,
   "id": "03337016",
   "metadata": {},
   "outputs": [],
   "source": [
    "h = 0.01\n",
    "t =np.linspace(0,0.45,50)\n",
    "#t"
   ]
  },
  {
   "cell_type": "code",
   "execution_count": 109,
   "id": "a7410141",
   "metadata": {},
   "outputs": [],
   "source": [
    "def System(r,t,L):\n",
    "    \n",
    "    theta,omega = r\n",
    "    \n",
    "    dtheta_dt = omega\n",
    "    den = (1/3)+(np.sin(theta)*np.sin(theta))\n",
    "    num =(((2*g)/(L))-((omega**2)*np.cos(theta)))*np.sin(theta) \n",
    "    domega_dt = num/den\n",
    "\n",
    "    \n",
    "    return [dtheta_dt,domega_dt]"
   ]
  },
  {
   "cell_type": "code",
   "execution_count": 110,
   "id": "454eb060",
   "metadata": {},
   "outputs": [],
   "source": [
    "def Integrator2(f,r0,t,L):\n",
    "    \n",
    "    h = t[1] - t[0]\n",
    "    #print(h)\n",
    "    \n",
    "    theta = np.zeros_like(t)\n",
    "    omega = np.zeros_like(t)\n",
    "   \n",
    "    theta[0] = r0[0]\n",
    "    omega[0] = r0[1]\n",
    "    \n",
    "    K1 = np.zeros(2)\n",
    "    K2 = np.zeros(2)\n",
    "    \n",
    "    # Las pendientes instantaneas\n",
    "    R = np.zeros(2)\n",
    "\n",
    "    for i in range(1,len(t)):\n",
    "        \n",
    "        R = np.array([theta[i-1],omega[i-1]])\n",
    "        \n",
    "        K1 = f(R,t[i-1],L)#Funcion evaluada en el presente por eso t[i-1]\n",
    "        #Se actualiza R pra calcular f en x+hk1, y +hk1, z+hk1\n",
    "        R = np.array([theta[i-1]+h*K1[0],omega[i-1]+h*K1[1]])\n",
    "        \n",
    "        K2 = f(R,t[i-1]+h,L)# Al t del presente le añado el paso para avanzar\n",
    "        \n",
    "        theta[i] = theta[i-1] + 0.5*h*(K1[0]+K2[0])\n",
    "    \n",
    "        omega[i] = omega[i-1] + 0.5*h*(K1[1]+K2[1])\n",
    "\n",
    "        \n",
    "    return theta, omega"
   ]
  },
  {
   "cell_type": "code",
   "execution_count": 111,
   "id": "c453fef5",
   "metadata": {},
   "outputs": [],
   "source": [
    "r0 = [((10*2*np.pi)/180),0]"
   ]
  },
  {
   "cell_type": "code",
   "execution_count": 112,
   "id": "635382ef",
   "metadata": {},
   "outputs": [],
   "source": [
    "theta, omega = Integrator2(System,r0,t,L)"
   ]
  },
  {
   "cell_type": "code",
   "execution_count": 113,
   "id": "de959157",
   "metadata": {},
   "outputs": [
    {
     "data": {
      "text/plain": [
       "'r= integrate.odeint(System,r0,t,args=(L,))\\nplt.scatter((L/2)*np.sin(r[:, 0]),(L/2)*np.cos(r[:, 0]))\\n'"
      ]
     },
     "execution_count": 113,
     "metadata": {},
     "output_type": "execute_result"
    },
    {
     "data": {
      "image/png": "[encoded data removed]",
      "text/plain": [
       "<Figure size 640x480 with 1 Axes>"
      ]
     },
     "metadata": {},
     "output_type": "display_data"
    }
   ],
   "source": [
    "plt.scatter((L/2)*np.sin(theta),(L/2)*np.cos(theta))\n",
    "#plt.scatter((L/2)*np.sin(omega),(L/2)*np.cos(omega))\n",
    "\n",
    "\"\"\"r= integrate.odeint(System,r0,t,args=(L,))\n",
    "plt.scatter((L/2)*np.sin(r[:, 0]),(L/2)*np.cos(r[:, 0]))\n",
    "\"\"\""
   ]
  },
  {
   "cell_type": "code",
   "execution_count": 114,
   "id": "728bd6f3",
   "metadata": {},
   "outputs": [
    {
     "name": "stdout",
     "output_type": "stream",
     "text": [
      "El tiempo de caida es 0.42244897959183675 segundos\n"
     ]
    }
   ],
   "source": [
    "def findTime(theta, t, error): \n",
    "    i = 0 \n",
    "    time = 0 \n",
    "    for th in theta:\n",
    "        if (np.pi/2)-error<=th and th<=(np.pi/2)+error: \n",
    "            time = t[i]\n",
    "            break         \n",
    "        i+=1\n",
    "    return time\n",
    "        \n",
    "tiempoCaida = findTime(theta, t, 0.1)\n",
    "\n",
    "print(\"El tiempo de caida es {} segundos\".format(tiempoCaida))\n",
    "            \n",
    "            "
   ]
  },
  {
   "cell_type": "code",
   "execution_count": 115,
   "id": "f197010a",
   "metadata": {},
   "outputs": [],
   "source": [
    "#plt.plot(t,vy)"
   ]
  },
  {
   "cell_type": "code",
   "execution_count": null,
   "id": "8fb8bf49",
   "metadata": {},
   "outputs": [],
   "source": []
  },
  {
   "cell_type": "code",
   "execution_count": null,
   "id": "520b8b6f",
   "metadata": {},
   "outputs": [],
   "source": []
  },
  {
   "cell_type": "code",
   "execution_count": null,
   "id": "67db0eb4",
   "metadata": {},
   "outputs": [],
   "source": []
  }
 ],
 "metadata": {
  "kernelspec": {
   "display_name": "Python 3 (ipykernel)",
   "language": "python",
   "name": "python3"
  },
  "language_info": {
   "codemirror_mode": {
    "name": "ipython",
    "version": 3
   },
   "file_extension": ".py",
   "mimetype": "text/x-python",
   "name": "python",
   "nbconvert_exporter": "python",
   "pygments_lexer": "ipython3",
   "version": "3.11.5"
  }
 },
 "nbformat": 4,
 "nbformat_minor": 5
}
