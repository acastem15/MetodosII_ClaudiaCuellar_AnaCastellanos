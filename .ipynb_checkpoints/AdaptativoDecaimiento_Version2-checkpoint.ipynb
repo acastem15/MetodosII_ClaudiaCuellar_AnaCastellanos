{
 "cells": [
  {
   "cell_type": "code",
   "execution_count": null,
   "id": "c55b717c",
   "metadata": {},
   "outputs": [],
   "source": [
    "import numpy as np\n",
    "import matplotlib.pyplot as plt\n",
    "from scipy.integrate import odeint"
   ]
  },
  {
   "cell_type": "code",
   "execution_count": null,
   "id": "11c49f50",
   "metadata": {},
   "outputs": [],
   "source": [
    "def System(r,t,lambA=0.5, lambB =0.3 ,):\n",
    "    \n",
    "    Na, Nb, Nc = r\n",
    "    \n",
    "    dNadt = -lambA*Na\n",
    "    dNbdt = lambA*Na-lambB*Nb\n",
    "    dNcdt = lambB*Nb\n",
    "    \n",
    "    return np.array([dNadt, dNbdt, dNcdt])"
   ]
  },
  {
   "cell_type": "code",
   "execution_count": null,
   "id": "28a51bbc",
   "metadata": {},
   "outputs": [],
   "source": [
    "t = np.linspace(0,10,50)\n",
    "r0 = np.array([500,0., 0.])"
   ]
  },
  {
   "cell_type": "code",
   "execution_count": null,
   "id": "e0401071",
   "metadata": {},
   "outputs": [],
   "source": [
    "# Solucion con odeint\n",
    "sol = odeint(System, r0, t)"
   ]
  },
  {
   "cell_type": "code",
   "execution_count": null,
   "id": "17abd434",
   "metadata": {},
   "outputs": [],
   "source": [
    "plt.plot(t,sol[:,0],marker='.')\n",
    "plt.plot(t,sol[:,1],marker='.')\n",
    "plt.plot(t,sol[:,2],marker='.')"
   ]
  },
  {
   "cell_type": "code",
   "execution_count": null,
   "id": "2879f098",
   "metadata": {},
   "outputs": [],
   "source": [
    "def Increment(f,r,t,h):\n",
    "    \n",
    "    state1 = np.array([r[0],r[1], r[2]])\n",
    "    K1 = f(state1,t)\n",
    "    \n",
    "    state2 = np.array([r[0]+0.5*h*K1[0],r[1]+0.5*h*K1[1],r[2]+0.5*h*K1[2]])\n",
    "    K2 = f(state2,t+0.5*h)\n",
    "    \n",
    "    state3 = np.array([r[0]+0.5*h*K2[0],r[1]+0.5*h*K2[1],r[2]+0.5*h*K2[2]])\n",
    "    K3 = f(state3,t+0.5*h)\n",
    "    \n",
    "    state4 = np.array([r[0]+h*K3[0],r[1]+h*K3[1],r[2]+h*K3[2]])\n",
    "    K4 = f(state4, t+h)\n",
    "    \n",
    "    Deltaf = h*(K1+2*K2+2*K3+K4)/6\n",
    "    \n",
    "    return r+Deltaf"
   ]
  },
  {
   "cell_type": "code",
   "execution_count": null,
   "id": "322f08dc",
   "metadata": {},
   "outputs": [],
   "source": [
    "def CheckStep(r1,r2,rt,h):\n",
    "    \n",
    "    tolerancia = 0.001\n",
    "    \n",
    "    r1 = np.abs(Delta1)\n",
    "    r2 = np.abs(Delta2)\n",
    "    rt = np.abs(Delta3)\n",
    "    \n",
    "    \n",
    "            \n",
    "    return dr,h  "
   ]
  },
  {
   "cell_type": "code",
   "execution_count": null,
   "id": "27498c96",
   "metadata": {},
   "outputs": [],
   "source": [
    "def Adaptativo(f,x0,t):\n",
    "    \n",
    "    h = t[1] - t[0]\n",
    "    \n",
    "    tf = t[-1]\n",
    "    t = t[0]\n",
    "    \n",
    "    r = r0\n",
    "    tolerancia = 0.001\n",
    "    \n",
    "    Time = np.array([t])\n",
    "    Vector = r\n",
    "    \n",
    "    Steps = np.array([h])\n",
    "    \n",
    "    while t < tf:\n",
    "        print(t)\n",
    "        \n",
    "        r1 = Increment(f,r,t,h) # es un vector\n",
    "        r2 = Increment(f,r,t+h,h)\n",
    "        rt = Increment(f,r,t,2*h)\n",
    "        \n",
    "        deltas = r1.copy()\n",
    "        ht = r1.copy()\n",
    "                \n",
    "        error = np.linalg.norm(r2-rt)\n",
    "\n",
    "        if error < tolerancia:\n",
    "            h = 2*h\n",
    "            \n",
    "            t+=h\n",
    "            r = rt\n",
    "\n",
    "            Vector = np.vstack((Vector,r))\n",
    "            Time = np.append(Time,t)\n",
    "            \n",
    "        else:\n",
    "            q = 0.85*(tolerancia/error)**(1/4)\n",
    "            h = q*h  \n",
    "        Steps = np.append(Steps,h)\n",
    "            \n",
    "    return Time,Vector,Steps        \n",
    "        \n",
    "    "
   ]
  },
  {
   "cell_type": "code",
   "execution_count": null,
   "id": "90f02d01",
   "metadata": {},
   "outputs": [],
   "source": [
    "r0 = np.array([500,0., 0.])\n",
    "t1,x1,h1 = Adaptativo(System,r0,t)\n",
    "print(len(t1), len(x1))"
   ]
  },
  {
   "cell_type": "code",
   "execution_count": null,
   "id": "9d6bdd9c",
   "metadata": {},
   "outputs": [],
   "source": []
  },
  {
   "cell_type": "code",
   "execution_count": null,
   "id": "597e428a",
   "metadata": {},
   "outputs": [],
   "source": [
    "plt.scatter(t1,sol[:,1],marker='.')\n",
    "plt.scatter(t1,x1[:,1],marker='.')"
   ]
  },
  {
   "cell_type": "code",
   "execution_count": null,
   "id": "0d610e9d",
   "metadata": {},
   "outputs": [],
   "source": []
  },
  {
   "cell_type": "code",
   "execution_count": null,
   "id": "1cfcfddb",
   "metadata": {},
   "outputs": [],
   "source": []
  }
 ],
 "metadata": {
  "kernelspec": {
   "display_name": "Python 3 (ipykernel)",
   "language": "python",
   "name": "python3"
  },
  "language_info": {
   "codemirror_mode": {
    "name": "ipython",
    "version": 3
   },
   "file_extension": ".py",
   "mimetype": "text/x-python",
   "name": "python",
   "nbconvert_exporter": "python",
   "pygments_lexer": "ipython3",
   "version": "3.11.5"
  }
 },
 "nbformat": 4,
 "nbformat_minor": 5
}
