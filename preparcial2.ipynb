{
 "cells": [
  {
   "cell_type": "markdown",
   "metadata": {},
   "source": [
    "**Coeficientes multipaso para adam moulton**"
   ]
  },
  {
   "cell_type": "code",
   "execution_count": 2,
   "metadata": {},
   "outputs": [],
   "source": [
    "import numpy as np\n",
    "import matplotlib.pyplot as plt\n",
    "from scipy import integrate\n",
    "import sympy as sym\n",
    "from scipy.integrate import odeint"
   ]
  },
  {
   "cell_type": "code",
   "execution_count": 3,
   "metadata": {},
   "outputs": [],
   "source": [
    "t=sym.Symbol('t',Real=True)\n",
    "h=sym.Symbol('h',Real=True)"
   ]
  },
  {
   "cell_type": "markdown",
   "metadata": {},
   "source": [
    "**Adam bashfort demostración**"
   ]
  },
  {
   "cell_type": "markdown",
   "metadata": {},
   "source": [
    "2 puntos"
   ]
  },
  {
   "cell_type": "code",
   "execution_count": 4,
   "metadata": {},
   "outputs": [],
   "source": [
    "F1= (t-(-h))/h\n",
    "F2 = -( t - 0 )/h"
   ]
  },
  {
   "cell_type": "code",
   "execution_count": 5,
   "metadata": {},
   "outputs": [
    {
     "data": {
      "text/latex": [
       "$\\displaystyle \\frac{3 h}{2}$"
      ],
      "text/plain": [
       "3*h/2"
      ]
     },
     "execution_count": 5,
     "metadata": {},
     "output_type": "execute_result"
    }
   ],
   "source": [
    "I1 = sym.integrate(F1,(t,0,h))\n",
    "I1"
   ]
  },
  {
   "cell_type": "code",
   "execution_count": 6,
   "metadata": {},
   "outputs": [
    {
     "data": {
      "text/latex": [
       "$\\displaystyle - \\frac{h}{2}$"
      ],
      "text/plain": [
       "-h/2"
      ]
     },
     "execution_count": 6,
     "metadata": {},
     "output_type": "execute_result"
    }
   ],
   "source": [
    "I2 = sym.integrate(F2,(t,0,h))\n",
    "I2"
   ]
  },
  {
   "cell_type": "markdown",
   "metadata": {},
   "source": [
    "3 puntos "
   ]
  },
  {
   "cell_type": "code",
   "execution_count": 7,
   "metadata": {},
   "outputs": [],
   "source": [
    "F4=((t)/(-2*h))*((t+h)/(-h))\n",
    "F6=((t+2*h)/(h))*((t)/(-h))\n",
    "F5=((t+h)/h)*((t+2*h)/(2*h))"
   ]
  },
  {
   "cell_type": "code",
   "execution_count": 8,
   "metadata": {},
   "outputs": [
    {
     "data": {
      "text/latex": [
       "$\\displaystyle \\frac{23 h}{12}$"
      ],
      "text/plain": [
       "23*h/12"
      ]
     },
     "execution_count": 8,
     "metadata": {},
     "output_type": "execute_result"
    }
   ],
   "source": [
    "I5 = sym.integrate(F5,(t,0,h))\n",
    "I5"
   ]
  },
  {
   "cell_type": "code",
   "execution_count": 9,
   "metadata": {},
   "outputs": [
    {
     "data": {
      "text/latex": [
       "$\\displaystyle - \\frac{4 h}{3}$"
      ],
      "text/plain": [
       "-4*h/3"
      ]
     },
     "execution_count": 9,
     "metadata": {},
     "output_type": "execute_result"
    }
   ],
   "source": [
    "I6 = sym.integrate(F6,(t,0,h))\n",
    "I6"
   ]
  },
  {
   "cell_type": "code",
   "execution_count": 10,
   "metadata": {},
   "outputs": [
    {
     "data": {
      "text/latex": [
       "$\\displaystyle \\frac{5 h}{12}$"
      ],
      "text/plain": [
       "5*h/12"
      ]
     },
     "execution_count": 10,
     "metadata": {},
     "output_type": "execute_result"
    }
   ],
   "source": [
    "I4 = sym.integrate(F4,(t,0,h))\n",
    "I4"
   ]
  },
  {
   "cell_type": "markdown",
   "metadata": {},
   "source": [
    "4 puntos "
   ]
  },
  {
   "cell_type": "code",
   "execution_count": 11,
   "metadata": {},
   "outputs": [],
   "source": [
    "F8=((t+2*h)/-h)*((t+h)/(-2*h))*(t/(-3*h))\n",
    "\n",
    "F9=((t+3*h)/h)*((t+h)/(-h))*(t/(-2*h))\n",
    "\n",
    "F10=((t)/-h)*((t+3*h)/(2*h))*((t+2*h)/(h))\n",
    "\n",
    "F11=((t+h)/(h))*((t+2*h)/(2*h))*((t+3*h)/(3*h))"
   ]
  },
  {
   "cell_type": "code",
   "execution_count": 12,
   "metadata": {},
   "outputs": [
    {
     "data": {
      "text/latex": [
       "$\\displaystyle \\frac{55 h}{24}$"
      ],
      "text/plain": [
       "55*h/24"
      ]
     },
     "execution_count": 12,
     "metadata": {},
     "output_type": "execute_result"
    }
   ],
   "source": [
    "I11 = sym.integrate(F11,(t,0,h))\n",
    "I11"
   ]
  },
  {
   "cell_type": "code",
   "execution_count": 13,
   "metadata": {},
   "outputs": [
    {
     "data": {
      "text/latex": [
       "$\\displaystyle - \\frac{59 h}{24}$"
      ],
      "text/plain": [
       "-59*h/24"
      ]
     },
     "execution_count": 13,
     "metadata": {},
     "output_type": "execute_result"
    }
   ],
   "source": [
    "I10 = sym.integrate(F10,(t,0,h))\n",
    "I10"
   ]
  },
  {
   "cell_type": "code",
   "execution_count": 14,
   "metadata": {},
   "outputs": [
    {
     "data": {
      "text/latex": [
       "$\\displaystyle \\frac{37 h}{24}$"
      ],
      "text/plain": [
       "37*h/24"
      ]
     },
     "execution_count": 14,
     "metadata": {},
     "output_type": "execute_result"
    }
   ],
   "source": [
    "I9 = sym.integrate(F9,(t,0,h))\n",
    "I9"
   ]
  },
  {
   "cell_type": "code",
   "execution_count": 15,
   "metadata": {},
   "outputs": [
    {
     "data": {
      "text/latex": [
       "$\\displaystyle - \\frac{3 h}{8}$"
      ],
      "text/plain": [
       "-3*h/8"
      ]
     },
     "execution_count": 15,
     "metadata": {},
     "output_type": "execute_result"
    }
   ],
   "source": [
    "I8 = sym.integrate(F8,(t,0,h))\n",
    "I8"
   ]
  },
  {
   "cell_type": "markdown",
   "metadata": {},
   "source": [
    "**Adam Moulton**"
   ]
  },
  {
   "cell_type": "markdown",
   "metadata": {},
   "source": [
    "3 puntos"
   ]
  },
  {
   "cell_type": "code",
   "execution_count": 16,
   "metadata": {},
   "outputs": [],
   "source": [
    "F4=(t/h)*((t+h)/(2*h))\n",
    "F6=((t-h)/(h))*((t+h)/(-h))\n",
    "F5=(t/-h)*((t-h)/(-2*h))"
   ]
  },
  {
   "cell_type": "code",
   "execution_count": 17,
   "metadata": {},
   "outputs": [
    {
     "data": {
      "text/latex": [
       "$\\displaystyle - \\frac{h}{12}$"
      ],
      "text/plain": [
       "-h/12"
      ]
     },
     "execution_count": 17,
     "metadata": {},
     "output_type": "execute_result"
    }
   ],
   "source": [
    "I5 = sym.integrate(F5,(t,0,h))\n",
    "I5"
   ]
  },
  {
   "cell_type": "code",
   "execution_count": 18,
   "metadata": {},
   "outputs": [
    {
     "data": {
      "text/latex": [
       "$\\displaystyle \\frac{2 h}{3}$"
      ],
      "text/plain": [
       "2*h/3"
      ]
     },
     "execution_count": 18,
     "metadata": {},
     "output_type": "execute_result"
    }
   ],
   "source": [
    "I6 = sym.integrate(F6,(t,0,h))\n",
    "I6"
   ]
  },
  {
   "cell_type": "code",
   "execution_count": 19,
   "metadata": {},
   "outputs": [
    {
     "data": {
      "text/latex": [
       "$\\displaystyle \\frac{5 h}{12}$"
      ],
      "text/plain": [
       "5*h/12"
      ]
     },
     "execution_count": 19,
     "metadata": {},
     "output_type": "execute_result"
    }
   ],
   "source": [
    "I4 = sym.integrate(F4,(t,0,h))\n",
    "I4"
   ]
  },
  {
   "cell_type": "markdown",
   "metadata": {},
   "source": [
    " 4 puntos"
   ]
  },
  {
   "cell_type": "code",
   "execution_count": 20,
   "metadata": {},
   "outputs": [],
   "source": [
    "F8=((t+h)/-h)*((t-h)/(-3*h))*(t/(-2*h))\n",
    "\n",
    "F9=((t+2*h)/h)*((t-h)/(-2*h))*(t/(-h))\n",
    "\n",
    "F10=((t-h)/-h)*((t+2*h)/(2*h))*((t+h)/(h))\n",
    "\n",
    "F11=((t+2*h)/(3*h))*((t+h)/(2*h))*(t/(h))"
   ]
  },
  {
   "cell_type": "code",
   "execution_count": 21,
   "metadata": {},
   "outputs": [
    {
     "data": {
      "text/latex": [
       "$\\displaystyle \\frac{h}{24}$"
      ],
      "text/plain": [
       "h/24"
      ]
     },
     "execution_count": 21,
     "metadata": {},
     "output_type": "execute_result"
    }
   ],
   "source": [
    "I8 = sym.integrate(F8,(t,0,h))\n",
    "I8"
   ]
  },
  {
   "cell_type": "code",
   "execution_count": 22,
   "metadata": {},
   "outputs": [
    {
     "data": {
      "text/latex": [
       "$\\displaystyle - \\frac{5 h}{24}$"
      ],
      "text/plain": [
       "-5*h/24"
      ]
     },
     "execution_count": 22,
     "metadata": {},
     "output_type": "execute_result"
    }
   ],
   "source": [
    "I9 = sym.integrate(F9,(t,0,h))\n",
    "I9"
   ]
  },
  {
   "cell_type": "code",
   "execution_count": 23,
   "metadata": {},
   "outputs": [
    {
     "data": {
      "text/latex": [
       "$\\displaystyle \\frac{19 h}{24}$"
      ],
      "text/plain": [
       "19*h/24"
      ]
     },
     "execution_count": 23,
     "metadata": {},
     "output_type": "execute_result"
    }
   ],
   "source": [
    "I10 = sym.integrate(F10,(t,0,h))\n",
    "I10"
   ]
  },
  {
   "cell_type": "code",
   "execution_count": 24,
   "metadata": {},
   "outputs": [
    {
     "data": {
      "text/latex": [
       "$\\displaystyle \\frac{3 h}{8}$"
      ],
      "text/plain": [
       "3*h/8"
      ]
     },
     "execution_count": 24,
     "metadata": {},
     "output_type": "execute_result"
    }
   ],
   "source": [
    "I11 = sym.integrate(F11,(t,0,h))\n",
    "I11"
   ]
  },
  {
   "cell_type": "markdown",
   "metadata": {},
   "source": [
    "5 puntos"
   ]
  },
  {
   "cell_type": "code",
   "execution_count": 25,
   "metadata": {},
   "outputs": [],
   "source": [
    "F12=((t+h)/(-h))*((t-h)/(-3*h))*(t/(-2*h))*((t+3*h)/(h))\n",
    " \n",
    "F13=((t+2*h)/h)*((t-h)/(-2*h))*(t/(-h))*((t+3*h)/(2*h))\n",
    "\n",
    "F14=((t-h)/-h)*((t+2*h)/(2*h))*((t+h)/(h))*((t+3*h)/(3*h))\n",
    "\n",
    "F15=((t+2*h)/(3*h))*((t+h)/(2*h))*(t/(h))*((t+3*h)/(4*h))\n",
    "\n",
    "F16=((t+2*h)/(-h))*((t+h)/(-2*h))*(t/(-3*h))*((t-h)/(-4*h))"
   ]
  },
  {
   "cell_type": "code",
   "execution_count": 26,
   "metadata": {},
   "outputs": [
    {
     "data": {
      "text/latex": [
       "$\\displaystyle - \\frac{19 h}{720}$"
      ],
      "text/plain": [
       "-19*h/720"
      ]
     },
     "execution_count": 26,
     "metadata": {},
     "output_type": "execute_result"
    }
   ],
   "source": [
    "I16 = sym.integrate(F16,(t,0,h))\n",
    "I16"
   ]
  },
  {
   "cell_type": "code",
   "execution_count": 27,
   "metadata": {},
   "outputs": [
    {
     "data": {
      "text/latex": [
       "$\\displaystyle \\frac{53 h}{360}$"
      ],
      "text/plain": [
       "53*h/360"
      ]
     },
     "execution_count": 27,
     "metadata": {},
     "output_type": "execute_result"
    }
   ],
   "source": [
    "I12 = sym.integrate(F12,(t,0,h))\n",
    "I12"
   ]
  },
  {
   "cell_type": "code",
   "execution_count": 28,
   "metadata": {},
   "outputs": [
    {
     "data": {
      "text/latex": [
       "$\\displaystyle - \\frac{11 h}{30}$"
      ],
      "text/plain": [
       "-11*h/30"
      ]
     },
     "execution_count": 28,
     "metadata": {},
     "output_type": "execute_result"
    }
   ],
   "source": [
    "I13 = sym.integrate(F13,(t,0,h))\n",
    "I13"
   ]
  },
  {
   "cell_type": "code",
   "execution_count": 29,
   "metadata": {},
   "outputs": [
    {
     "data": {
      "text/latex": [
       "$\\displaystyle \\frac{323 h}{360}$"
      ],
      "text/plain": [
       "323*h/360"
      ]
     },
     "execution_count": 29,
     "metadata": {},
     "output_type": "execute_result"
    }
   ],
   "source": [
    "I14 = sym.integrate(F14,(t,0,h))\n",
    "I14"
   ]
  },
  {
   "cell_type": "code",
   "execution_count": 30,
   "metadata": {},
   "outputs": [
    {
     "data": {
      "text/latex": [
       "$\\displaystyle \\frac{251 h}{720}$"
      ],
      "text/plain": [
       "251*h/720"
      ]
     },
     "execution_count": 30,
     "metadata": {},
     "output_type": "execute_result"
    }
   ],
   "source": [
    "I15 = sym.integrate(F15,(t,0,h))\n",
    "I15"
   ]
  },
  {
   "cell_type": "markdown",
   "metadata": {},
   "source": [
    "**Código integrador Adam para funciones**"
   ]
  },
  {
   "cell_type": "code",
   "execution_count": 31,
   "metadata": {},
   "outputs": [
    {
     "data": {
      "text/plain": [
       "<matplotlib.legend.Legend at 0x2631adf7370>"
      ]
     },
     "execution_count": 31,
     "metadata": {},
     "output_type": "execute_result"
    },
    {
     "data": {
      "image/png": "[encoded data removed]",
      "text/plain": [
       "<Figure size 432x288 with 1 Axes>"
      ]
     },
     "metadata": {
      "needs_background": "light"
     },
     "output_type": "display_data"
    }
   ],
   "source": [
    "def f(x,y):\n",
    "    return x + 2*y\n",
    "def Solucion(x):\n",
    "    return -0.5*x - (1-np.exp(2*x))/4.\n",
    "\n",
    "t = np.linspace(0,1,1000)\n",
    "h = t[1] - t[0]\n",
    "yext = Solucion(t)\n",
    "\n",
    "def RungeKutta4(x,y,h,f):\n",
    "    for i in range(1,len(x)):\n",
    "        \n",
    "        k1 = f(x[i-1],y[i-1])# f en el presente\n",
    "        k2= f(x[i-1]+0.5*h,y[i-1]+0.5*h*k1)\n",
    "        k3= f(x[i-1]+0.5*h,y[i-1]+0.5*h*k2)\n",
    "        k4 = f(x[i-1]+h,y[i-1]+k3*h)\n",
    "        \n",
    "        y[i] = y[i-1] + (1/6)*h*(k1+2*k2+2*k3+k4)#RungeKutta\n",
    "\n",
    "#Se inicia con RungeKutta\n",
    "y4 = np.zeros_like(t)\n",
    "y4[0] = 0\n",
    "RungeKutta4(t,y4,h,f)\n",
    "\n",
    "def GetAdams_45(f,x,yrk1):\n",
    "    \n",
    "    h = x[1] - x[0]\n",
    "    \n",
    "    y = yrk1.copy()\n",
    "    \n",
    "    yc = y.copy()\n",
    "    \n",
    "    #En i esta el futuro y en i-1 el presente \n",
    "    for i in range(1,len(x)):\n",
    "        #Bashfort 4 puntos\n",
    "        y[i] = y[i-1] +(1/24)*h*(55*f(x[i-4],y[i-4])-59*f(x[i-3],y[i-3])+37*f(x[i-2],y[i-2])-9*f(x[i-1],y[i-1]))\n",
    "        \n",
    "        yc[i] = y[i]\n",
    "        #Bashfort Multoun 5 puntos\n",
    "        yc[i] = yc[i-1] +(1/720)*h*(251*f(x[i],y[i])+646*f(x[i-4],y[i-4])-264*f(x[i-3],y[i-3])+106*f(x[i-2],y[i-2])-19*f(x[i-1],y[i-1]))\n",
    "        \n",
    "    \n",
    "    return y,yc\n",
    "\n",
    "ybash2,ymoulton2 = GetAdams_45(f,t,y4)\n",
    "plt.plot(t,y4)\n",
    "plt.plot(t,ybash2,label='Adams')\n",
    "plt.plot(t,ymoulton2,label='Adams Moulton')\n",
    "plt.legend()"
   ]
  },
  {
   "cell_type": "markdown",
   "metadata": {},
   "source": [
    "**Integrador Adam 4-5 para sistemas**"
   ]
  },
  {
   "cell_type": "code",
   "execution_count": 32,
   "metadata": {},
   "outputs": [],
   "source": [
    "def System (r,t,mu=1.5):\n",
    "    x,vx=r\n",
    "    dxdt=vx\n",
    "    dvxdt=mu*(1-x**2)*vx-x\n",
    "    \n",
    "    return np.array([dxdt,dvxdt])\n",
    "\n",
    "t=np.linspace(0,20,1000)\n",
    "r0=[0.5,0.]\n",
    "sol=odeint(System,r0,t,args=(1.3,))"
   ]
  },
  {
   "cell_type": "code",
   "execution_count": 33,
   "metadata": {},
   "outputs": [
    {
     "data": {
      "text/plain": [
       "<matplotlib.collections.PathCollection at 0x2631b9dffd0>"
      ]
     },
     "execution_count": 33,
     "metadata": {},
     "output_type": "execute_result"
    },
    {
     "data": {
      "image/png": "[encoded data removed]",
      "text/plain": [
       "<Figure size 432x288 with 1 Axes>"
      ]
     },
     "metadata": {
      "needs_background": "light"
     },
     "output_type": "display_data"
    }
   ],
   "source": [
    "def GetEulerSystem4(f,r0,t):\n",
    "    \n",
    "    h = t[1] - t[0]\n",
    "    \n",
    "    x = np.zeros_like(t)\n",
    "    vx = np.zeros_like(t)\n",
    "    \n",
    "    x[0] = r0[0]\n",
    "    x[1] = r0[1]\n",
    "    \n",
    "    K1=np.zeros(2)\n",
    "    K2=np.zeros(2)\n",
    "    K3=np.zeros(2)\n",
    "    K4=np.zeros(2)\n",
    "    R=np.zeros(2)\n",
    "    \n",
    "    for i in range(1,len(t)):\n",
    "        R=np.array([x[i-1],vx[i-1]])\n",
    "        K1=f(R,t[i-1])\n",
    "        \n",
    "        R=np.array([x[i-1]+0.5*h*K1[0],vx[i-1]+0.5*h*K1[1]])\n",
    "        K2=f(R,t[i-1])\n",
    "        \n",
    "        R=np.array([x[i-1]+0.5*h*K2[0],vx[i-1]+0.5*h*K2[1]])\n",
    "        K3=f(R,t[i-1])\n",
    "        \n",
    "        R=np.array([x[i-1]+h*K3[0],vx[i-1]+h*K3[1]])\n",
    "        K4=f(R,t[i-1])\n",
    "        \n",
    "        x[i] = x[i-1] + h*(K1[0]+2*K2[0]+2*K3[0]+K4[0])/6\n",
    "        vx[i]=vx[i-1]+h*(K1[1]+2*K2[1]+2*K3[1]+K4[1])/6\n",
    "        \n",
    "    return x,vx\n",
    "\n",
    "x,vx= GetEulerSystem4(System,r0,t)\n",
    "plt.scatter(sol[:,0],sol[:,1])\n",
    "plt.scatter(x,vx)"
   ]
  },
  {
   "cell_type": "code",
   "execution_count": 34,
   "metadata": {},
   "outputs": [
    {
     "data": {
      "text/plain": [
       "<matplotlib.collections.PathCollection at 0x2631ba85ac0>"
      ]
     },
     "execution_count": 34,
     "metadata": {},
     "output_type": "execute_result"
    },
    {
     "data": {
      "image/png": "[encoded data removed]",
      "text/plain": [
       "<Figure size 432x288 with 1 Axes>"
      ]
     },
     "metadata": {
      "needs_background": "light"
     },
     "output_type": "display_data"
    }
   ],
   "source": [
    "#Empezando con rungekutta\n",
    "def AdamsIntegrator_45(f,r0,t,mu):\n",
    "    \n",
    "    h = t[1] - t[0]\n",
    "    x=np.zeros_like(t)\n",
    "    vx=np.zeros_like(t)\n",
    "    \n",
    "    x[0]=r0[0]\n",
    "    vx[0]=r0[1]\n",
    "    \n",
    "    K11=np.zeros(2)\n",
    "    K12=np.zeros(2)\n",
    "    K13=np.zeros(2)\n",
    "    K14=np.zeros(2)\n",
    "    K15=np.zeros(2)\n",
    "    \n",
    "    # RungeKutta\n",
    "    \n",
    "    K11=f(np.array([x[0],vx[0]]),t[0],mu)\n",
    "    K12=f(np.array([x[0]+0.5*h*K11[0],vx[0]+0.5*h*K11[1]]),t[0],mu)\n",
    "    K13=f(np.array([x[0]+0.5*h*K12[0],vx[0]+0.5*h*K12[1]]),t[0],mu)\n",
    "    K14=f(np.array([x[0]+h*K13[0],vx[0]+h*K13[1]]),t[0],mu)\n",
    "        \n",
    "    x[1] = x[0] + h*(K11[0]+2*K12[0]+2*K13[0]+K14[0])/6\n",
    "    vx[1]= vx[0] + h*(K11[1]+2*K12[1]+2*K13[1]+K14[1])/6\n",
    "    \n",
    "    xc=x.copy()\n",
    "    vxc=vx.copy()\n",
    "    \n",
    "    for i in range(1,len(t)):\n",
    "        \n",
    "        K11=f(np.array([x[i-1],vx[i-1]]),t[i-1],mu)\n",
    "        K12=f(np.array([x[i-2],vx[i-2]]),t[i-2],mu)\n",
    "        K13=f(np.array([x[i-3],vx[i-3]]),t[i-3],mu)\n",
    "        K14=f(np.array([x[i-4],vx[i-4]]),t[i-4],mu)\n",
    "        \n",
    "        x[i]=x[i-1]+(1/24)*h*(55*K11[0]-59*K12[0]+37*K13[0]-9*K14[0])\n",
    "        vx[i]=vx[i-1]+(1/24)*h*(55*K11[1]-59*K12[1]+37*K13[1]-9*K14[1])\n",
    "        \n",
    "        xc[i]=x[i]\n",
    "        vxc[i]=vx[i]\n",
    "        \n",
    "        #futuro\n",
    "        K15=f(np.array([x[i],vx[i]]),t[i],mu)\n",
    "        \n",
    "        xc[i]= xc[i-1]+(1/720)*h*(251*K15[0]+646*K11[0]-264*K12[0]+106*K13[0]-19*K14[0])\n",
    "        vxc[i]= vxc[i-1]+(1/720)*h*(251*K15[1]+646*K11[1]-264*K12[1]+106*K13[1]-19*K14[1])\n",
    "        \n",
    "    return x,vx,xc,vxc\n",
    "\n",
    "sol2=AdamsIntegrator_45(System,r0,t,1.3)\n",
    "plt.scatter(sol[:,0],sol[:,1],marker='.')\n",
    "plt.scatter(sol2[0],sol2[1],color='r',marker='.')"
   ]
  }
 ],
 "metadata": {
  "kernelspec": {
   "display_name": "Python 3 (ipykernel)",
   "language": "python",
   "name": "python3"
  },
  "language_info": {
   "codemirror_mode": {
    "name": "ipython",
    "version": 3
   },
   "file_extension": ".py",
   "mimetype": "text/x-python",
   "name": "python",
   "nbconvert_exporter": "python",
   "pygments_lexer": "ipython3",
   "version": "3.11.5"
  }
 },
 "nbformat": 4,
 "nbformat_minor": 2
}
