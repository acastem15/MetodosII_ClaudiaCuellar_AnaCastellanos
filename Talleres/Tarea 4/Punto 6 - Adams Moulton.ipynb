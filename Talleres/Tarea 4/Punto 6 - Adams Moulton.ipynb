{
 "cells": [
  {
   "cell_type": "markdown",
   "metadata": {},
   "source": [
    "# Punto 6 - Adams Moulton"
   ]
  },
  {
   "cell_type": "markdown",
   "metadata": {},
   "source": [
    "El polinomio interpolador usado se describe en más detalle en el pdf adjunto "
   ]
  },
  {
   "cell_type": "markdown",
   "metadata": {},
   "source": [
    "**Tres puntos:** Tomando el conjunto $\\Omega = {(t_{n−2}, f_{n−2}),(t_{n−1}, f_{n−1}),(t_n, f_n)}$ se obtiene que sus bases cardinales son:\n",
    "\n",
    "$$p_{n-1}= \\left(\\frac{t-t_{n}}{t_{n-1}-t_{n}}\\right)\\left(\\frac{t-t_{n+1}}{t_{n-1}-t_{n+1}}\\right) =\\left(\\frac{t}{h}\\right)\\left(\\frac{-t+h}{-2h}\\right)$$\n",
    "$$p_{n}= \\left(\\frac{t-t_{n-1}}{t_n-t_{n-1}}\\right)\\left(\\frac{t-t_{n+1}}{t_{n}-t_{n+1}}\\right) =\\left(\\frac{t+h}{h}\\right)\\left(\\frac{-t+h}{-h}\\right) $$\n",
    "$$p_{n+1}=  \\left(\\frac{t-t_{n}}{t_{n+1}-t_{n}}\\right)\\left(\\frac{t-t_{n-1}}{t_{n+1}-t_{n-1}}\\right) =\\left(\\frac{t}{h}\\right)\\left(\\frac{t+h}{2h}\\right) $$\n",
    "\n",
    "Al integrar observamos que los respectivos coeficientes del polinomio son:"
   ]
  },
  {
   "cell_type": "code",
   "execution_count": 1,
   "metadata": {},
   "outputs": [],
   "source": [
    "import numpy as np\n",
    "import matplotlib.pyplot as plt\n",
    "from scipy import integrate\n",
    "import sympy as sym"
   ]
  },
  {
   "cell_type": "code",
   "execution_count": 2,
   "metadata": {},
   "outputs": [],
   "source": [
    "t=sym.Symbol('t',Real=True)\n",
    "h=sym.Symbol('h',Real=True)"
   ]
  },
  {
   "cell_type": "code",
   "execution_count": 20,
   "metadata": {},
   "outputs": [],
   "source": [
    "Fn_minus_1=((t)/h)*(-(t-h)/(-2*h))\n",
    "Fn=((t+h)/(h))*((t-h)/(-h))\n",
    "Fn_plus_1=((t)/(h))*((t+h)/(2*h))"
   ]
  },
  {
   "cell_type": "code",
   "execution_count": 21,
   "metadata": {},
   "outputs": [
    {
     "data": {
      "text/latex": [
       "$\\displaystyle - \\frac{h}{12}$"
      ],
      "text/plain": [
       "-h/12"
      ]
     },
     "execution_count": 21,
     "metadata": {},
     "output_type": "execute_result"
    }
   ],
   "source": [
    "sym.integrate(Fn_minus_1,(t,0,h))"
   ]
  },
  {
   "cell_type": "code",
   "execution_count": 22,
   "metadata": {},
   "outputs": [
    {
     "data": {
      "text/latex": [
       "$\\displaystyle \\frac{2 h}{3}$"
      ],
      "text/plain": [
       "2*h/3"
      ]
     },
     "execution_count": 22,
     "metadata": {},
     "output_type": "execute_result"
    }
   ],
   "source": [
    "sym.integrate(Fn,(t,0,h))"
   ]
  },
  {
   "cell_type": "code",
   "execution_count": 23,
   "metadata": {},
   "outputs": [
    {
     "data": {
      "text/latex": [
       "$\\displaystyle \\frac{5 h}{12}$"
      ],
      "text/plain": [
       "5*h/12"
      ]
     },
     "execution_count": 23,
     "metadata": {},
     "output_type": "execute_result"
    }
   ],
   "source": [
    "sym.integrate(Fn_plus_1,(t,0,h))"
   ]
  },
  {
   "cell_type": "markdown",
   "metadata": {},
   "source": [
    "Por lo que la fórmula de iteración es $y_{n+1}=y_n+h \\cdot (\\frac{-1}{12}f_{n-1}+\\frac{2}{3}f_{n}+\\frac{5}{12}f_{n+1})=y_n+\\frac{h}{12}(5f_{n+1}+8f_{n}-f_{n-1}) $"
   ]
  }
 ],
 "metadata": {
  "kernelspec": {
   "display_name": "Python 3",
   "language": "python",
   "name": "python3"
  },
  "language_info": {
   "codemirror_mode": {
    "name": "ipython",
    "version": 3
   },
   "file_extension": ".py",
   "mimetype": "text/x-python",
   "name": "python",
   "nbconvert_exporter": "python",
   "pygments_lexer": "ipython3",
   "version": "3.11.5"
  }
 },
 "nbformat": 4,
 "nbformat_minor": 2
}
