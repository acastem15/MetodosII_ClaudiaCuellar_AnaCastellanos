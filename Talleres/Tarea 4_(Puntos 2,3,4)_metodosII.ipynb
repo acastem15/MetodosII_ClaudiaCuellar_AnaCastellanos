{
 "cells": [
  {
   "cell_type": "code",
   "execution_count": 3,
   "metadata": {},
   "outputs": [],
   "source": [
    "import numpy as np\n",
    "import matplotlib.pyplot as plt\n",
    "from scipy import integrate\n",
    "import sympy as sym\n",
    "from scipy.integrate import odeint"
   ]
  },
  {
   "cell_type": "markdown",
   "metadata": {},
   "source": [
    "2. **Integrador de Adams-Bashforth.** Demuestre la formula de iteración para tres y cuatro puntos.\n",
    "\n",
    "$$y_{n+1}=y_n+\\frac{h}{12}(23f_n-16f_{n-1}+5f_{n-2}) $$\n",
    "$$y_{n+1}=y_n+\\frac{h}{24}(55f_n-59f_{n-1}+37f_{n-2}-9f_{n-3}) $$\n",
    "\n",
    "$\\textit{Hint}$: Para el primer caso, integrar el polinomio interpolador para los puntos: $\\Omega = {(t_{n−2}, f_{n−2}),(t_{n−1}, f_{n−1}),(t_n, f_n)}$"
   ]
  },
  {
   "cell_type": "markdown",
   "metadata": {},
   "source": [
    "**Respuesta:** Los métodos de Adams o miltipaso se basan en un sistema predictor-corrector. Donde el método explícito o predictor (Adams-Bashforth) usa la información acumulada hasta el paso presente para estimar las funciones\n",
    "en el siguiente paso, mientras que el paso implícito o corrector (Adams-Moulton) usa dicha información más la predicción para realizar la corrección del siguiente paso. Así, se puede definir el método multi-paso lineal como:\n",
    "$$y_{n+1}=\\phi_k(t_0,y_{n+1},...,t_{n+1},y_{n+1}) $$\n",
    "donde $\\phi_k$ es una transformación lineal en las $y_k$ evaluada en esos puntos. Para iniciar el esquema es necesario saber los k puntos de condición inicial, usualmente calculados con métodos RungeKutta de orden 4. De esta manera, al conocer los primeros k\n",
    "valores de la función ${y_0, y_1, ..., y_l}$ en ${t_0, t_1, ..., t_l}$ con $l = 0, 1, ..., k$ podemos calcular el polinomio interpolador de orden k:\n",
    "$$p_k(x)=\\sum_{i=0}^kf(x_i)L_i(x) \\quad \\text{donde} \\quad L_i(x)=\\prod_{j=0,j\\neq i}^k \\frac{x-x_j}{x_i-x_j}$$\n",
    "Usando las bases cardinales se obtiene la fórmula de iteración general:\n",
    "$$y_{n+1}=y_n+\\int_{t_n}^{t_{n+1}}p_k(x)dx=y_n+\\sum_{i=0}^kf_i\\int_{t_n}^{t_{n+1}}L_i(x)dx $$\n",
    "\n",
    "Así, para cada conjunto de puntos se hallará el polinomio interpolador e integrará sobre la región, obteniendo su fórmula de iteración. Para la integración se utilizará el paquete de sympy, además de que el espaciado entre los puntos de integración será $t_n-t_{n-k}=kh$.\n",
    "\n",
    "**Tres puntos:** Tomando el conjunto $\\Omega = {(t_{n−2}, f_{n−2}),(t_{n−1}, f_{n−1}),(t_n, f_n)}$ se obtiene que sus bases cardinales son:\n",
    "\n",
    "$$p_{n}= \\left(\\frac{t-t_{n-1}}{t_n-t_{n-1}}\\right)\\left(\\frac{t-t_{n-2}}{t_n-t_{n-2}}\\right) =\\left(\\frac{t+h}{h}\\right)\\left(\\frac{t+2h}{2h}\\right)$$\n",
    "$$p_{n-1}= \\left(\\frac{t-t_{n-2}}{t_{n-1}-t_{n-2}}\\right)\\left(\\frac{t-t_{n}}{t_{n-1}-t_{n}}\\right) =\\left(\\frac{t+2h}{h}\\right)\\left(\\frac{t}{-h}\\right) $$\n",
    "$$p_{n-2}=  \\left(\\frac{t-t_{n}}{t_{n-2}-t_{n}}\\right)\\left(\\frac{t-t_{n-1}}{t_{n-2}-t_{n-1}}\\right) =\\left(\\frac{t}{-2h}\\right)\\left(\\frac{t+h}{-h}\\right) $$\n",
    "\n",
    "Al integrar observamos que los respectivos coeficientes del polinomio son:"
   ]
  },
  {
   "cell_type": "code",
   "execution_count": 4,
   "metadata": {},
   "outputs": [],
   "source": [
    "t=sym.Symbol('t',Real=True)\n",
    "h=sym.Symbol('h',Real=True)"
   ]
  },
  {
   "cell_type": "code",
   "execution_count": 9,
   "metadata": {},
   "outputs": [],
   "source": [
    "Fn=((t+h)/h)*((t+2*h)/(2*h))\n",
    "Fn1=((t+2*h)/(h))*((t)/(-h))\n",
    "Fn2=((t)/(-2*h))*((t+h)/(-h))"
   ]
  },
  {
   "cell_type": "code",
   "execution_count": 8,
   "metadata": {},
   "outputs": [
    {
     "data": {
      "text/latex": [
       "$\\displaystyle \\frac{23 h}{12}$"
      ],
      "text/plain": [
       "23*h/12"
      ]
     },
     "execution_count": 8,
     "metadata": {},
     "output_type": "execute_result"
    }
   ],
   "source": [
    "sym.integrate(Fn,(t,0,h))"
   ]
  },
  {
   "cell_type": "code",
   "execution_count": 7,
   "metadata": {},
   "outputs": [
    {
     "data": {
      "text/latex": [
       "$\\displaystyle - \\frac{4 h}{3}$"
      ],
      "text/plain": [
       "-4*h/3"
      ]
     },
     "execution_count": 7,
     "metadata": {},
     "output_type": "execute_result"
    }
   ],
   "source": [
    "sym.integrate(Fn1,(t,0,h))"
   ]
  },
  {
   "cell_type": "code",
   "execution_count": 10,
   "metadata": {},
   "outputs": [
    {
     "data": {
      "text/latex": [
       "$\\displaystyle \\frac{5 h}{12}$"
      ],
      "text/plain": [
       "5*h/12"
      ]
     },
     "execution_count": 10,
     "metadata": {},
     "output_type": "execute_result"
    }
   ],
   "source": [
    "sym.integrate(Fn2,(t,0,h))"
   ]
  },
  {
   "cell_type": "markdown",
   "metadata": {},
   "source": [
    "Por lo que la fórmula de iteración es $y_{n+1}=y_n+(\\frac{23h}{12}f_n-\\frac{4h}{3}f_{n-1}+\\frac{5h}{12}f_{n-2})=y_n+\\frac{h}{12}(23f_n-16f_{n-1}+5f_{n-2}) $\n",
    "\n",
    "**Cuatro puntos:** Tomando el conjunto $\\Omega = {(t_{n−3}, f_{n−3}),(t_{n−2}, f_{n−2}),(t_{n−1}, f_{n−1}),(t_n, f_n)}$ se obtiene que sus bases cardinales son:\n",
    "\n",
    "$$p_{n}= \\left(\\frac{t-t_{n-1}}{t_{n}-t_{n-1}}\\right)\\left(\\frac{t-t_{n-2}}{t_{n}-t_{n-2}}\\right)\\left(\\frac{t-t_{n-3}}{t_{n}-t_{n-3}}\\right) =\\left(\\frac{t+h}{h}\\right)\\left(\\frac{t+2h}{2h}\\right)\\left(\\frac{t+3h}{3h}\\right) $$\n",
    "$$p_{n-1}= \\left(\\frac{t-t_{n-2}}{t_{n-1}-t_{n-2}}\\right)\\left(\\frac{t-t_{n-3}}{t_{n-1}-t_{n-3}}\\right)\\left(\\frac{t-t_{n}}{t_{n-1}-t_{n}}\\right) =\\left(\\frac{t+2h}{h}\\right)\\left(\\frac{t+3h}{2h}\\right)\\left(\\frac{t}{-h}\\right) $$\n",
    "$$p_{n-2}= \\left(\\frac{t-t_{n-3}}{t_{n-2}-t_{n-3}}\\right)\\left(\\frac{t-t_{n}}{t_{n-2}-t_{n}}\\right)\\left(\\frac{t-t_{n-1}}{t_{n-2}-t_{n-1}}\\right) =\\left(\\frac{t+3h}{h}\\right)\\left(\\frac{t}{-2h}\\right)\\left(\\frac{t+h}{-h}\\right) $$\n",
    "$$p_{n-3}= \\left(\\frac{t-t_{n}}{t_{n-3}-t_{n}}\\right)\\left(\\frac{t-t_{n-1}}{t_{n-3}-t_{n-1}}\\right)\\left(\\frac{t-t_{n-2}}{t_{n-3}-t_{n-2}}\\right) =\\left(\\frac{t}{-3h}\\right)\\left(\\frac{t+h}{-2h}\\right)\\left(\\frac{t+2h}{-h}\\right) $$\n",
    "\n",
    "Al integrar observamos que los respectivos coeficientes del polinomio son:"
   ]
  },
  {
   "cell_type": "code",
   "execution_count": 11,
   "metadata": {},
   "outputs": [],
   "source": [
    "Fn3=((t+2*h)/-h)*((t+h)/(-2*h))*(t/(-3*h))\n",
    "\n",
    "Fn2=((t+3*h)/h)*((t+h)/(-h))*(t/(-2*h))\n",
    "\n",
    "Fn1=((t)/-h)*((t+3*h)/(2*h))*((t+2*h)/(h))\n",
    "\n",
    "Fn=((t+h)/(h))*((t+2*h)/(2*h))*((t+3*h)/(3*h))"
   ]
  },
  {
   "cell_type": "code",
   "execution_count": 12,
   "metadata": {},
   "outputs": [
    {
     "data": {
      "text/latex": [
       "$\\displaystyle \\frac{55 h}{24}$"
      ],
      "text/plain": [
       "55*h/24"
      ]
     },
     "execution_count": 12,
     "metadata": {},
     "output_type": "execute_result"
    }
   ],
   "source": [
    "sym.integrate(Fn,(t,0,h))"
   ]
  },
  {
   "cell_type": "code",
   "execution_count": 13,
   "metadata": {},
   "outputs": [
    {
     "data": {
      "text/latex": [
       "$\\displaystyle - \\frac{59 h}{24}$"
      ],
      "text/plain": [
       "-59*h/24"
      ]
     },
     "execution_count": 13,
     "metadata": {},
     "output_type": "execute_result"
    }
   ],
   "source": [
    "sym.integrate(Fn1,(t,0,h))"
   ]
  },
  {
   "cell_type": "code",
   "execution_count": 14,
   "metadata": {},
   "outputs": [
    {
     "data": {
      "text/latex": [
       "$\\displaystyle \\frac{37 h}{24}$"
      ],
      "text/plain": [
       "37*h/24"
      ]
     },
     "execution_count": 14,
     "metadata": {},
     "output_type": "execute_result"
    }
   ],
   "source": [
    "sym.integrate(Fn2,(t,0,h))"
   ]
  },
  {
   "cell_type": "code",
   "execution_count": 15,
   "metadata": {},
   "outputs": [
    {
     "data": {
      "text/latex": [
       "$\\displaystyle - \\frac{3 h}{8}$"
      ],
      "text/plain": [
       "-3*h/8"
      ]
     },
     "execution_count": 15,
     "metadata": {},
     "output_type": "execute_result"
    }
   ],
   "source": [
    "sym.integrate(Fn3,(t,0,h))"
   ]
  },
  {
   "cell_type": "markdown",
   "metadata": {},
   "source": [
    "Por lo que la fórmula de iteración es $y_{n+1}=y_n+(\\frac{55h}{24}f_n-\\frac{59h}{24}f_{n-1}+\\frac{37h}{24}f_{n-2}-\\frac{3h}{8}f_{n-3})=y_n+\\frac{h}{24}(55f_n-59f_{n-1}+37f_{n-2}-9f_{n-3}) $\n",
    "\n",
    "Así, quedarían demostradas las fórmulas de iteración para tres y cuatro puntos usando el método Adams-Bashfort. "
   ]
  },
  {
   "cell_type": "markdown",
   "metadata": {},
   "source": [
    "3. **Integrador de Adams-Moulton.** Demuestre la formula de iteración para tres y cuatro puntos.\n",
    "\n",
    "$$y_{n+1}=y_n+\\frac{h}{12}(5f_{n+1}+8f_{n}-f_{n-1}) $$\n",
    "$$y_{n+1}=y_n+\\frac{h}{24}(9f_{n+1}+19f_{n}-5f_{n-1}+f_{n-2}) $$\n",
    "\n",
    "$\\textit{Hint}$: Para el primer caso, integrar el polinomio interpolador para los puntos: $\\Omega = {(t_{n−1}, f_{n−1}),(t_{n}, f_{n}),(t_{n+1}, f_{n+1})}$"
   ]
  },
  {
   "cell_type": "markdown",
   "metadata": {},
   "source": [
    "**Respuesta:** Siguiendo con la misma lógica del inciso anterior, se tomarán las predicciones calculadas para hallar los respectivos polinomios interpoladores.\n",
    "\n",
    "**Tres puntos:** Tomando el conjunto $\\Omega = {(t_{n−1}, f_{n−1}),(t_{n}, f_{n}),(t_{n+1}, f_{n+1})}$ se obtiene que sus bases cardinales son:\n",
    "\n",
    "$$p_{n-1}= \\left(\\frac{t-t_{n}}{t_{n-1}-t_{n}}\\right)\\left(\\frac{t-t_{n+1}}{t_{n-1}-t_{n+1}}\\right) =\\left(\\frac{t}{-h}\\right)\\left(\\frac{t-h}{-2h}\\right) $$\n",
    "$$p_{n}= \\left(\\frac{t-t_{n+1}}{t_{n}-t_{n+1}}\\right)\\left(\\frac{t-t_{n-1}}{t_{n}-t_{n-1}}\\right) =\\left(\\frac{t-h}{-h}\\right)\\left(\\frac{t+h}{-h}\\right) $$\n",
    "$$p_{n+1}= \\left(\\frac{t-t_{n-1}}{t_{n+1}-t_{n-1}}\\right)\\left(\\frac{t-t_{n}}{t_{n+1}-t_{n}}\\right) =\\left(\\frac{t}{h}\\right)\\left(\\frac{t+h}{2h}\\right) $$\n",
    "\n",
    "Al integrar observamos que los respectivos coeficientes del polinomio son:"
   ]
  },
  {
   "cell_type": "code",
   "execution_count": 16,
   "metadata": {},
   "outputs": [],
   "source": [
    "Fmas1=(t/h)*((t+h)/(2*h))\n",
    "Fn=((t-h)/(h))*((t+h)/(-h))\n",
    "Fmenos1=(t/-h)*((t-h)/(-2*h))"
   ]
  },
  {
   "cell_type": "code",
   "execution_count": 17,
   "metadata": {},
   "outputs": [
    {
     "data": {
      "text/latex": [
       "$\\displaystyle - \\frac{h}{12}$"
      ],
      "text/plain": [
       "-h/12"
      ]
     },
     "execution_count": 17,
     "metadata": {},
     "output_type": "execute_result"
    }
   ],
   "source": [
    "sym.integrate(Fmenos1,(t,0,h))"
   ]
  },
  {
   "cell_type": "code",
   "execution_count": 18,
   "metadata": {},
   "outputs": [
    {
     "data": {
      "text/latex": [
       "$\\displaystyle \\frac{2 h}{3}$"
      ],
      "text/plain": [
       "2*h/3"
      ]
     },
     "execution_count": 18,
     "metadata": {},
     "output_type": "execute_result"
    }
   ],
   "source": [
    "sym.integrate(Fn,(t,0,h))"
   ]
  },
  {
   "cell_type": "code",
   "execution_count": 19,
   "metadata": {},
   "outputs": [
    {
     "data": {
      "text/latex": [
       "$\\displaystyle \\frac{5 h}{12}$"
      ],
      "text/plain": [
       "5*h/12"
      ]
     },
     "execution_count": 19,
     "metadata": {},
     "output_type": "execute_result"
    }
   ],
   "source": [
    "sym.integrate(Fmas1,(t,0,h))"
   ]
  },
  {
   "cell_type": "markdown",
   "metadata": {},
   "source": [
    "Por lo que la fórmula de iteración es $y_{n+1}=y_n+(\\frac{5h}{12}f_{n+1}+\\frac{2h}{3}f_{n}-\\frac{h}{12}f_{n-1})=y_n+\\frac{h}{12}(5f_{n+1}+8f_{n}-f_{n-1}) $\n",
    "\n",
    "**Cuatro puntos:** Tomando el conjunto $\\Omega = {(t_{n−2}, f_{n−2}),(t_{n−1}, f_{n−1}),(t_{n}, f_{n}),(t_{n+1}, f_{n+1})}$ se obtiene que sus bases cardinales son:\n",
    "\n",
    "$$p_{n-2}= \\left(\\frac{t-t_{n-1}}{t_{n-2}-t_{n-1}}\\right)\\left(\\frac{t-t_{n}}{t_{n-2}-t_{n}}\\right)\\left(\\frac{t-t_{n+1}}{t_{n-2}-t_{n}}\\right) =\\left(\\frac{t+h}{-h}\\right)\\left(\\frac{t}{-2h}\\right)\\left(\\frac{t-h}{-3h}\\right)  $$\n",
    "$$p_{n-1}= \\left(\\frac{t-t_{n}}{t_{n-1}-t_{n}}\\right)\\left(\\frac{t-t_{n+1}}{t_{n-1}-t_{n+1}}\\right)\\left(\\frac{t-t_{n-2}}{t_{n-1}-t_{n-2}}\\right) =\\left(\\frac{t}{-h}\\right)\\left(\\frac{t-h}{-2h}\\right)\\left(\\frac{t+2h}{h}\\right)  $$\n",
    "$$p_{n}= \\left(\\frac{t-t_{n+1}}{t_{n}-t_{n+1}}\\right)\\left(\\frac{t-t_{n-2}}{t_{n}-t_{n-2}}\\right)\\left(\\frac{t-t_{n-1}}{t_{n}-t_{n-1}}\\right) =\\left(\\frac{t-h}{-h}\\right)\\left(\\frac{t+2h}{2h}\\right)\\left(\\frac{t+h}{h}\\right)  $$\n",
    "$$p_{n+1}= \\left(\\frac{t-t_{n-2}}{t_{n+1}-t_{n-2}}\\right)\\left(\\frac{t-t_{n-1}}{t_{n+1}-t_{n-1}}\\right)\\left(\\frac{t-t_{n}}{t_{n+1}-t_{n}}\\right) =\\left(\\frac{t+2h}{3h}\\right)\\left(\\frac{t+h}{2h}\\right)\\left(\\frac{t}{h}\\right)  $$\n",
    "\n",
    "Al integrar observamos que los respectivos coeficientes del polinomio son:"
   ]
  },
  {
   "cell_type": "code",
   "execution_count": 20,
   "metadata": {},
   "outputs": [],
   "source": [
    "Fmenos2=((t+h)/-h)*((t-h)/(-3*h))*(t/(-2*h))\n",
    "\n",
    "Fmenos1=((t+2*h)/h)*((t-h)/(-2*h))*(t/(-h))\n",
    "\n",
    "Fn=((t-h)/-h)*((t+2*h)/(2*h))*((t+h)/(h))\n",
    "\n",
    "Fn1=((t+2*h)/(3*h))*((t+h)/(2*h))*(t/(h))"
   ]
  },
  {
   "cell_type": "code",
   "execution_count": 21,
   "metadata": {},
   "outputs": [
    {
     "data": {
      "text/latex": [
       "$\\displaystyle \\frac{h}{24}$"
      ],
      "text/plain": [
       "h/24"
      ]
     },
     "execution_count": 21,
     "metadata": {},
     "output_type": "execute_result"
    }
   ],
   "source": [
    "sym.integrate(Fmenos2,(t,0,h))"
   ]
  },
  {
   "cell_type": "code",
   "execution_count": 22,
   "metadata": {},
   "outputs": [
    {
     "data": {
      "text/latex": [
       "$\\displaystyle - \\frac{5 h}{24}$"
      ],
      "text/plain": [
       "-5*h/24"
      ]
     },
     "execution_count": 22,
     "metadata": {},
     "output_type": "execute_result"
    }
   ],
   "source": [
    "sym.integrate(Fmenos1,(t,0,h))"
   ]
  },
  {
   "cell_type": "code",
   "execution_count": 23,
   "metadata": {},
   "outputs": [
    {
     "data": {
      "text/latex": [
       "$\\displaystyle \\frac{19 h}{24}$"
      ],
      "text/plain": [
       "19*h/24"
      ]
     },
     "execution_count": 23,
     "metadata": {},
     "output_type": "execute_result"
    }
   ],
   "source": [
    "sym.integrate(Fn,(t,0,h))"
   ]
  },
  {
   "cell_type": "code",
   "execution_count": 24,
   "metadata": {},
   "outputs": [
    {
     "data": {
      "text/latex": [
       "$\\displaystyle \\frac{3 h}{8}$"
      ],
      "text/plain": [
       "3*h/8"
      ]
     },
     "execution_count": 24,
     "metadata": {},
     "output_type": "execute_result"
    }
   ],
   "source": [
    "sym.integrate(Fn1,(t,0,h))"
   ]
  },
  {
   "cell_type": "markdown",
   "metadata": {},
   "source": [
    "Por lo que la fórmula de iteración es $y_{n+1}=y_n+(\\frac{3h}{8}f_{n+1}+\\frac{19h}{24}f_{n}-\\frac{5h}{24}f_{n-1}+\\frac{h}{24}f_{n-2}) $\n",
    "\n",
    "Así, quedarían demostradas las fórmulas de iteración para tres y cuatro puntos usando el método Adams-Moulton. "
   ]
  },
  {
   "cell_type": "markdown",
   "metadata": {},
   "source": [
    "4. **Integrador simplético I:** Muestre que el método de Verlet es simpléctico, es decir, el\n",
    "Jacobiano inducido en el método es igual a uno.\n",
    "$$J=\\frac{\\partial x_{n+1}}{\\partial x_n}\\frac{\\partial v_{n+1}}{\\partial v_n} -\\frac{\\partial x_{n+1}}{\\partial v_n}\\frac{\\partial v_{n+1}}{\\partial x_n}=1$$\n",
    "\n",
    "**Respuesta:** El método de Verlet es un método numérico utilizado para integrar las ecuaciones de movimiento de Newton, donde sus respectivas ecuaciones de iteración son: \n",
    "$$ x_{n+1}=x_n-v_n(dt)+\\frac{1}{2}a_n(dt)^2$$\n",
    "$$v_{n+1} = v_n + \\frac{1}{2} (a_n + a_{n+1}) dt \\quad \\text{donde} \\quad v_n=\\frac{x_{n+1}-x_{n}}{dt}$$\n",
    "\n",
    "donde $dt$ el paso de tiempo, $a_n$ y $v_n$ es la aceleración y la velocidad en el paso n. Calculando las derivadas parciales necesarias para obtener el Jacobiano tenemos que:\n",
    "\n",
    "$$\\frac{\\partial x_{n+1}}{\\partial x_n} = 1\\quad \\quad \\frac{\\partial x_{n+1}}{\\partial v_n} = dt\\quad \\quad \\frac{\\partial v_{n+1}}{\\partial x_n} = -\\frac{1}{dt}\\quad \\quad \\frac{\\partial v_{n+1}}{\\partial v_n} = 0$$\n",
    "\n",
    "Sustituyendo estas derivadas en la ecuación del Jacobiano obtenemos:\n",
    "\n",
    "$$J=\\frac{\\partial x_{n+1}}{\\partial x_n}\\frac{\\partial v_{n+1}}{\\partial v_n} -\\frac{\\partial x_{n+1}}{\\partial v_n}\\frac{\\partial v_{n+1}}{\\partial x_n}=(1)(0) - (dt)\\left(-\\frac{1}{dt}\\right) = 1$$\n",
    "\n",
    "Por ende, queda mostrado que el método de Verlet es simpléctico, lo que significa que preserva la estructura simpléctica del espacio de fase."
   ]
  }
 ],
 "metadata": {
  "kernelspec": {
   "display_name": "base",
   "language": "python",
   "name": "python3"
  },
  "language_info": {
   "codemirror_mode": {
    "name": "ipython",
    "version": 3
   },
   "file_extension": ".py",
   "mimetype": "text/x-python",
   "name": "python",
   "nbconvert_exporter": "python",
   "pygments_lexer": "ipython3",
   "version": "3.9.7"
  }
 },
 "nbformat": 4,
 "nbformat_minor": 2
}
